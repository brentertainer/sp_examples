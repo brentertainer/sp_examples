{
 "cells": [
  {
   "cell_type": "code",
   "execution_count": null,
   "id": "e3a36c6f",
   "metadata": {},
   "outputs": [],
   "source": [
    "import random\n",
    "\n",
    "import pyomo.environ as penv\n",
    "import pyomo.opt as popt"
   ]
  },
  {
   "cell_type": "markdown",
   "id": "87fa2b61",
   "metadata": {},
   "source": [
    "We formulate a stochastic variant of the maximum flow model to demonstrate how to implement constraints on the distributions of loss for various metrics. In each scenario, the flow across an edge is limited to the minimum of a deterministic upper bound and the sum of the uncertain reduced capacity with the first-stage capacity reinforcement.\n",
    "\n",
    "The objective is to minimize the sum of all first-stage capacity reinforcement decisions such that the loss distribution constraints are satisfied."
   ]
  },
  {
   "cell_type": "code",
   "execution_count": null,
   "id": "8bc1d6dc",
   "metadata": {},
   "outputs": [],
   "source": [
    "nodes = [0, 1, 2, 3, 4, 5]\n",
    "edges = {\n",
    "    (0, 1): 16,\n",
    "    (0, 2): 13,\n",
    "    (1, 3): 12,\n",
    "    (1, 2): 10,\n",
    "    (2, 1):  4,\n",
    "    (2, 4): 14,\n",
    "    (3, 2):  9,\n",
    "    (4, 3):  7,\n",
    "    (4, 5):  4,\n",
    "    (3, 5): 20,\n",
    "    (5, 0): 99,\n",
    "}\n",
    "source = 0\n",
    "sink = 5"
   ]
  },
  {
   "cell_type": "code",
   "execution_count": null,
   "id": "3e573954",
   "metadata": {},
   "outputs": [],
   "source": [
    "num_scenarios = 100\n",
    "seed = 0\n",
    "random.seed(seed)\n",
    "xi = {(n, m, scenario): edges[source, sink]\n",
    "                        if (n, m) == (source, sink) else\n",
    "                        random.randint(0, edges[n, m])\n",
    "      for (n, m) in edges\n",
    "      for scenario in range(num_scenarios)}"
   ]
  },
  {
   "cell_type": "markdown",
   "id": "f481e4dd",
   "metadata": {},
   "source": [
    "# Core Model"
   ]
  },
  {
   "cell_type": "markdown",
   "id": "674e2c07",
   "metadata": {},
   "source": [
    "$$\n",
    "\\begin{align}\n",
    "\\min & \\sum_{(n,m) \\in E} x_{n,m} \\\\\n",
    "\\text{s.t.} & \\sum_{m \\in \\delta^+(n)} y_{m,n}^\\omega = \\sum_{m \\in \\delta^-(n)} y_{n,m}^\\omega, \\quad \\forall n \\in N, \\forall \\omega \\in \\Omega \\\\\n",
    "& y_{n,m}^\\omega \\le f_{n,m}, \\quad \\forall (n,m) \\in E, \\forall \\omega \\in \\Omega \\\\\n",
    "& y_{n,m}^\\omega \\le \\xi_{n,m}^\\omega + x_{n,m}, \\quad \\forall (n,m) \\in E, \\forall \\omega \\in \\Omega\n",
    "\\end{align}\n",
    "$$"
   ]
  },
  {
   "cell_type": "code",
   "execution_count": null,
   "id": "cac90cf1",
   "metadata": {},
   "outputs": [],
   "source": [
    "model = penv.ConcreteModel()\n",
    "model.nodes = penv.Set(initialize=nodes)\n",
    "model.edges = penv.Set(initialize=list(edges))\n",
    "model.scenarios = penv.Set(initialize=range(num_scenarios))\n",
    "model.s = source\n",
    "model.t = sink\n",
    "model.flow_capacity = penv.Param(model.edges, initialize=edges)\n",
    "model.xi = penv.Param(model.edges, model.scenarios, initialize=xi)\n",
    "\n",
    "# x are first-stage branch hardening decisions\n",
    "model.x = penv.Var(model.edges, domain=penv.NonNegativeReals)\n",
    "# y are second-stage branch flow decisions\n",
    "model.y = penv.Var(model.edges, model.scenarios, domain=penv.NonNegativeReals)\n",
    "\n",
    "def con_flow_balance(model, node, scenario):\n",
    "    in_edges = [(n, m) for (n, m) in model.edges if m == node]\n",
    "    out_edges = [(n, m) for (n, m) in model.edges if n == node]\n",
    "    return sum(model.y[edge, scenario] for edge in in_edges) == sum(model.y[edge, scenario] for edge in out_edges)\n",
    "\n",
    "def con_max_flow_capacity(model, n, m, scenario):\n",
    "    return model.y[n, m, scenario] <= model.flow_capacity[n, m]\n",
    "\n",
    "def con_eff_flow_capacity(model, n, m, scenario):\n",
    "    return model.y[n, m, scenario] <= model.xi[n, m, scenario] + model.x[n, m]\n",
    "\n",
    "def obj_min_budget(model):\n",
    "    return sum(model.x[edge] for edge in model.edges)\n",
    "\n",
    "model.con_flow_balance = penv.Constraint(model.nodes, model.scenarios, rule=con_flow_balance)\n",
    "model.con_max_flow_capacity = penv.Constraint(model.edges, model.scenarios, rule=con_max_flow_capacity)\n",
    "model.con_eff_flow_capacity = penv.Constraint(model.edges, model.scenarios, rule=con_eff_flow_capacity)\n",
    "model.obj_min_budget = penv.Objective(sense=penv.minimize, rule=obj_min_budget)"
   ]
  },
  {
   "cell_type": "markdown",
   "id": "ce0e80c5",
   "metadata": {},
   "source": [
    "# Type I Service-Level Constraints\n",
    "\n",
    "$$\n",
    "\\begin{align}\n",
    "& \\text{Pr}(\\boldsymbol{y}_{t,s} \\ge b_i) \\ge \\alpha_i, \\quad i = 1, \\ldots, N_\\text{Type-I} \\\\\n",
    "& \\Updownarrow \\\\\n",
    "& \\mathcal{I}_i^\\omega \\le \\frac{y_{t,s}^\\omega}{\\bar{y}_{t,s}}, \\quad \\forall \\omega \\in \\Omega, i = 1, \\ldots, N_\\text{Type-I}, \\\\\n",
    "& \\sum_{\\omega \\in \\Omega} \\pi^\\omega \\mathcal{I}_i^\\omega \\ge \\alpha_i, \\quad i = 1, \\ldots, N_\\text{Type-I}\n",
    "\\end{align}\n",
    "$$\n"
   ]
  },
  {
   "cell_type": "code",
   "execution_count": null,
   "id": "a2024539",
   "metadata": {},
   "outputs": [],
   "source": [
    "def con_indicator(model, scenario, type1_con):\n",
    "    return model.indicator[scenario, type1_con] <= model.y[model.t, model.s, scenario] / perf_thresholds[type1_con]\n",
    "\n",
    "def con_type1_service_level(model, type1_con):\n",
    "    return sum(model.indicator[scenario, type1_con] for scenario in model.scenarios) / num_scenarios >= alpha_thresholds[type1_con]\n",
    "\n",
    "perf_thresholds = [20, 18, 15]\n",
    "alpha_thresholds = [0.50, 0.75, 1.00]\n",
    "num_type1_constraints = len(perf_thresholds)\n",
    "\n",
    "model.type1_con_set = penv.Set(initialize=range(num_type1_constraints))\n",
    "model.indicator = penv.Var(model.scenarios, model.type1_con_set, domain=penv.Binary)\n",
    "model.con_indicator = penv.Constraint(model.scenarios, model.type1_con_set, rule=con_indicator)\n",
    "model.con_type1_service_level = penv.Constraint(model.type1_con_set, rule=con_type1_service_level)"
   ]
  },
  {
   "cell_type": "markdown",
   "id": "2f65151a",
   "metadata": {},
   "source": [
    "# Type II Service-Level Constraints\n",
    "\n",
    "$$\n",
    "\\begin{align}\n",
    "& \\frac{\\mathbb{E}[\\boldsymbol{y}_{t,s}]}{\\bar{y}_{t,s}} \\ge \\beta \\\\\n",
    "& \\Updownarrow \\\\\n",
    "& \\frac{\\displaystyle\\sum_{\\omega \\in \\Omega} \\pi^\\omega y_{t,s}^\\omega}{\\bar{y}_{t,s}} \\ge \\beta\n",
    "\\end{align}\n",
    "$$"
   ]
  },
  {
   "cell_type": "code",
   "execution_count": null,
   "id": "f77dc286",
   "metadata": {},
   "outputs": [],
   "source": [
    "def con_type2_service_level(model):\n",
    "    return sum(model.y[model.t, model.s, scenario] for scenario in model.scenarios) / num_scenarios >= perf_target * beta_threshold\n",
    "\n",
    "perf_target = 23\n",
    "beta_threshold = 0.75\n",
    "\n",
    "model.con_type2_service_level = penv.Constraint(rule=con_type2_service_level)"
   ]
  },
  {
   "cell_type": "markdown",
   "id": "cba90517",
   "metadata": {},
   "source": [
    "# CVaR Constraints\n",
    "\n",
    "$$\n",
    "\\begin{align}\n",
    "& \\text{CVaR}^{\\epsilon_i} [\\boldsymbol{y}_{t,s}] \\le \\zeta_i, \\quad i = 1, \\ldots, N_\\text{CVaR} \\\\\n",
    "& \\Updownarrow \\\\\n",
    "& \\beta_i + \\sum_{\\omega \\in \\Omega} \\pi^\\omega \\nu_i^\\omega \\le \\zeta_i, \\quad i = 1, \\ldots, N_\\text{CVaR}, \\\\\n",
    "& \\nu_i^\\omega \\ge \\bar{y}_{t,s} - y_{t,s}^\\omega - \\beta_i, \\quad \\forall \\omega \\in \\Omega, i = 1, \\ldots, N_\\text{CVaR}, \\\\\n",
    "& \\nu_i^\\omega \\ge 0, \\quad \\forall \\omega \\in \\Omega, i = 1, \\ldots, N_\\text{CVaR}\n",
    "\\end{align}\n",
    "$$"
   ]
  },
  {
   "cell_type": "code",
   "execution_count": null,
   "id": "7da6cc76",
   "metadata": {},
   "outputs": [],
   "source": [
    "def con_cvar_main(model, cvar_con):\n",
    "    return model.cvar_beta[cvar_con] + sum(model.cvar_nu[scenario, cvar_con] for scenario in model.scenarios) / (num_scenarios * cvar_epsilons[cvar_con]) <= cvar_thresholds[cvar_con]\n",
    "\n",
    "def con_cvar_aux(model, scenario, cvar_con):\n",
    "    loss = perf_target - model.y[model.t, model.s, scenario]\n",
    "    return model.cvar_nu[scenario, cvar_con] >= loss - model.cvar_beta[cvar_con]\n",
    "\n",
    "perf_target = 23\n",
    "cvar_thresholds = [4, 7.5]\n",
    "cvar_epsilons = [0.50, 0.10]\n",
    "num_cvar_constraints = len(cvar_thresholds)\n",
    "\n",
    "model.cvar_con_set = penv.Set(initialize=range(num_cvar_constraints))\n",
    "model.cvar_beta = penv.Var(model.cvar_con_set)\n",
    "model.cvar_nu = penv.Var(model.scenarios, model.cvar_con_set, domain=penv.NonNegativeReals)\n",
    "model.con_cvar_main = penv.Constraint(model.cvar_con_set, rule=con_cvar_main)\n",
    "model.con_cvar_aux = penv.Constraint(model.scenarios, model.cvar_con_set, rule=con_cvar_aux)"
   ]
  },
  {
   "cell_type": "code",
   "execution_count": null,
   "id": "0263a1f5",
   "metadata": {},
   "outputs": [],
   "source": [
    "solver = popt.SolverFactory('gurobi')\n",
    "result = solver.solve(model)\n",
    "\n",
    "for key in model.x:\n",
    "    model.x[key].fix(model.x[key].value)\n",
    "\n",
    "model.obj_min_budget.deactivate()\n",
    "\n",
    "def obj_max_flow(model):\n",
    "    return sum(model.y[model.t, model.s, scenario] for scenario in model.scenarios) / num_scenarios\n",
    "model.obj_max_flow = penv.Objective(sense=penv.maximize, rule=obj_max_flow)\n",
    "\n",
    "result = solver.solve(model)"
   ]
  },
  {
   "cell_type": "code",
   "execution_count": null,
   "id": "4755de53",
   "metadata": {},
   "outputs": [],
   "source": [
    "import numpy as np\n",
    "import matplotlib.pyplot as plt\n",
    "\n",
    "probabilities = np.linspace(0.01, 1.00, 100)\n",
    "losses = np.array([23 - model.y[model.t, model.s, scenario].value for scenario in model.scenarios])\n",
    "\n",
    "plt.plot(probabilities, np.sort(losses), 'k-')\n",
    "\n",
    "# Type I\n",
    "for i in range(num_type1_constraints):\n",
    "    plt.plot([alpha_thresholds[i]] * 2, [0, perf_target - perf_thresholds[i]], '-', color='green')\n",
    "    plt.plot([0, alpha_thresholds[i]], [perf_target - perf_thresholds[i]] * 2, '-', color='green')\n",
    "    idx = int(np.floor(alpha_thresholds[i] * num_scenarios) - 1)\n",
    "    plt.plot([0, alpha_thresholds[i]], [np.sort(losses)[idx]] * 2, color='lime')\n",
    "\n",
    "# Type II\n",
    "plt.plot([0, 1], [perf_target * (1 - beta_threshold)] * 2, '-', color='red')\n",
    "plt.plot([0, 1], [np.mean(losses)] * 2, '--', color='orange')\n",
    "\n",
    "# CVaR\n",
    "for i in range(num_cvar_constraints):\n",
    "    plt.plot([1 - cvar_epsilons[i], 1], [cvar_thresholds[i]] * 2, '-', color='blue')\n",
    "    idx = int(np.floor((1 - cvar_epsilons[i]) * num_scenarios) - 1)\n",
    "    plt.plot([1 - cvar_epsilons[i], 1], [np.sort(losses)[idx:].mean()] * 2, '--', color='cyan')\n",
    "\n",
    "plt.show()"
   ]
  }
 ],
 "metadata": {
  "kernelspec": {
   "display_name": "Python 3 (ipykernel)",
   "language": "python",
   "name": "python3"
  },
  "language_info": {
   "codemirror_mode": {
    "name": "ipython",
    "version": 3
   },
   "file_extension": ".py",
   "mimetype": "text/x-python",
   "name": "python",
   "nbconvert_exporter": "python",
   "pygments_lexer": "ipython3",
   "version": "3.8.8"
  }
 },
 "nbformat": 4,
 "nbformat_minor": 5
}
